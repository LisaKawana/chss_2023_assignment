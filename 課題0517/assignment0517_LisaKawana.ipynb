{
 "cells": [
  {
   "attachments": {},
   "cell_type": "markdown",
   "metadata": {},
   "source": [
    "# 課題1\n",
    "\n",
    "与えられたリスト内重複な値を削除してください。"
   ]
  },
  {
   "cell_type": "code",
   "execution_count": null,
   "metadata": {},
   "outputs": [],
   "source": [
    "numbers = [1, 2, 3, 2, 4, 3, 5, 4, 6, 57, 57, 6, 18, 7, 9, 8, 10, 9, 0, 0, 10]"
   ]
  },
  {
   "cell_type": "code",
   "execution_count": 1,
   "metadata": {},
   "outputs": [
    {
     "name": "stdout",
     "output_type": "stream",
     "text": [
      "[1, 2, 3, 5, 4, 57, 6, 18, 7, 8, 9, 0, 10]\n"
     ]
    }
   ],
   "source": [
    "##課題１への解答：重複している値を全消しするのか、片割れを消してもう片方を残すのかわからなかったので、両方の方法を使って演習しました。\n",
    "#課題１への解答①\n",
    "numbers = [1, 2, 3, 2, 4, 3, 5, 4, 6, 57, 57, 6, 18, 7, 9, 8, 10, 9, 0, 0, 10]\n",
    "n=len(numbers)\n",
    "array=[]\n",
    "\n",
    "for i in range(n-1):\n",
    "  for j in range(i+1,n):\n",
    "    if numbers[i]==numbers[j]:\n",
    "      array.append(numbers[i])\n",
    "for i in array:\n",
    "  numbers.remove(i)\n",
    "\n",
    "print(numbers)"
   ]
  },
  {
   "cell_type": "code",
   "execution_count": 2,
   "metadata": {},
   "outputs": [
    {
     "name": "stdout",
     "output_type": "stream",
     "text": [
      "[0, 1, 2, 3, 4, 5, 6, 7, 8, 9, 10, 18, 57]\n"
     ]
    }
   ],
   "source": [
    "#課題１への解答②\n",
    "numbers = [1,2,3,2,4,3,5,4,6,57,57,6,18,7,9,8,10,9,0,0,10]\n",
    "\n",
    "numbers = list(set(numbers))#一度リストからsetを作成して、それをリストにまた変換する\n",
    "\n",
    "print(numbers)"
   ]
  },
  {
   "cell_type": "code",
   "execution_count": 3,
   "metadata": {},
   "outputs": [
    {
     "name": "stdout",
     "output_type": "stream",
     "text": [
      "[1, 5, 18, 7, 8]\n"
     ]
    }
   ],
   "source": [
    "#課題１への解答③\n",
    "numbers=[1,2,3,2,4,3,5,4,6,57,57,6,18,7,9,8,10,9,0,0,10]\n",
    "n=len(numbers)\n",
    "n_list=[]\n",
    "\n",
    "for i in range(n-1):\n",
    "  for j in range(i+1,n):\n",
    "    if numbers[i]==numbers[j]:\n",
    "      n_list.append(numbers[i])\n",
    "\n",
    "for i in n_list:\n",
    "  num = numbers.count(i)\n",
    "  for k in range(num):\n",
    "    numbers.remove(i)\n",
    "\n",
    "print(numbers)"
   ]
  },
  {
   "attachments": {},
   "cell_type": "markdown",
   "metadata": {},
   "source": [
    "# 課題2\n",
    "\n",
    "与えられたリスト内の指定した値を検索し、値の出現回数を```print```してください。見つからない場合は```Not Exists```を```print```してください。\n",
    "\n",
    "```value_0```と```value_１```を実行した結果を確認してください。"
   ]
  },
  {
   "cell_type": "code",
   "execution_count": 17,
   "metadata": {},
   "outputs": [],
   "source": [
    "numbers = [1, 2, 3, 2, 4, 3, 5, 4, 6, 57, 57, 6, 18, 7, 9, 8, 10, 9, 0, 0, 10]\n",
    "value_0= 0\n",
    "value_1= 100"
   ]
  },
  {
   "cell_type": "code",
   "execution_count": 4,
   "metadata": {},
   "outputs": [
    {
     "name": "stdout",
     "output_type": "stream",
     "text": [
      "2\n",
      "Not exist\n"
     ]
    }
   ],
   "source": [
    "#課題２への解答\n",
    "numbers=[1,2,3,2,4,3,5,4,6,57,57,6,18,7,9,8,10,9,0,0,10]\n",
    "value_0=0\n",
    "value_1=100\n",
    "\n",
    "def list_search(num):\n",
    "  if num>0:\n",
    "    print(num)\n",
    "  else:\n",
    "    print(\"Not exist\")\n",
    "\n",
    "count1=numbers.count(value_0)\n",
    "count2=numbers.count(value_1)\n",
    "\n",
    "list_search(count1)\n",
    "list_search(count2)"
   ]
  },
  {
   "attachments": {},
   "cell_type": "markdown",
   "metadata": {},
   "source": [
    "# 課題3\n",
    "\n",
    "与えられた辞書内の指定したに一致するキーを検索し、そのキーに対応する値を```print```してください。見つからない場合は```Not Exists```を```print```してください。\n",
    "\n",
    "```value_0```と```value_１```を実行した結果を確認してください。"
   ]
  },
  {
   "cell_type": "code",
   "execution_count": 18,
   "metadata": {},
   "outputs": [],
   "source": [
    "birth={'Marx': 1818,\n",
    "       'Weber': 1864,\n",
    "       'Durkheim': 1858,\n",
    "       'Parsons': 1902,\n",
    "       'Merton': 1911}\n",
    "\n",
    "value_0= \"Parsons\"\n",
    "value_1= \"Giddens\""
   ]
  },
  {
   "cell_type": "code",
   "execution_count": 5,
   "metadata": {},
   "outputs": [
    {
     "name": "stdout",
     "output_type": "stream",
     "text": [
      "1902\n",
      "Not exist\n"
     ]
    }
   ],
   "source": [
    "#課題３への解答\n",
    "birth={'Marx': 1818,\n",
    "       'Weber': 1864,\n",
    "       'Durkheim': 1858,\n",
    "       'Parsons': 1902,\n",
    "       'Merton': 1911}\n",
    "value_0='Parsons'\n",
    "value_1='Giddens'\n",
    "\n",
    "def dic_search(key):\n",
    "  if key in birth:\n",
    "    print(birth[key])\n",
    "  else:\n",
    "    print(\"Not exist\")\n",
    "\n",
    "dic_search(value_0)\n",
    "dic_search(value_1)"
   ]
  },
  {
   "attachments": {},
   "cell_type": "markdown",
   "metadata": {},
   "source": [
    "# 課題4\n",
    "\n",
    "与えられた辞書の値を新しいリストに格納し、降順にソートしてください。"
   ]
  },
  {
   "cell_type": "code",
   "execution_count": 19,
   "metadata": {},
   "outputs": [],
   "source": [
    "birth={'Marx': 1818,\n",
    "       'Weber': 1864,\n",
    "       'Durkheim': 1858,\n",
    "       'Parsons': 1902,\n",
    "       'Merton': 1911}"
   ]
  },
  {
   "cell_type": "code",
   "execution_count": 10,
   "metadata": {},
   "outputs": [
    {
     "name": "stdout",
     "output_type": "stream",
     "text": [
      "[1911, 1902, 1864, 1858, 1818]\n"
     ]
    }
   ],
   "source": [
    "#課題４への解答\n",
    "birth={'Marx': 1818,\n",
    "       'Weber': 1864,\n",
    "       'Durkheim': 1858,\n",
    "       'Parsons': 1902,\n",
    "       'Merton': 1911}\n",
    "\n",
    "d_list = list(set(birth.values()))\n",
    "d_list.sort(reverse=True)#降順に並べ替える\n",
    "print(d_list)"
   ]
  }
 ],
 "metadata": {
  "kernelspec": {
   "display_name": "base",
   "language": "python",
   "name": "python3"
  },
  "language_info": {
   "codemirror_mode": {
    "name": "ipython",
    "version": 3
   },
   "file_extension": ".py",
   "mimetype": "text/x-python",
   "name": "python",
   "nbconvert_exporter": "python",
   "pygments_lexer": "ipython3",
   "version": "3.11.3"
  },
  "orig_nbformat": 4
 },
 "nbformat": 4,
 "nbformat_minor": 2
}
